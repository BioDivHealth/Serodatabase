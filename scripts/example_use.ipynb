{
 "cells": [
  {
   "cell_type": "code",
   "execution_count": null,
   "id": "f945cbec-c8ab-46ca-a69e-ff33de29e19f",
   "metadata": {},
   "outputs": [],
   "source": [
    "import pandas as pd\n",
    "from litsearchtools import check_coverage"
   ]
  },
  {
   "cell_type": "code",
   "execution_count": 3,
   "id": "cf12ac01-15c8-4575-88c6-25cc51cf0a53",
   "metadata": {},
   "outputs": [],
   "source": [
    "### Import results csv from database search\n",
    "results = pd.read_csv(\"example_data/scopus_search.csv\")\n",
    "results = results[[\"Authors\", \"Title\", \"Year\", \"Abstract\"]]\n",
    "results = results.rename(columns={\"Authors\": \"authors\", \"Title\": \"title\", \"Year\": \"year\", \"Abstract\": \"abstract\"})"
   ]
  },
  {
   "cell_type": "code",
   "execution_count": 4,
   "id": "0db436c0-f85b-49b8-8d13-6e35f1109919",
   "metadata": {},
   "outputs": [],
   "source": [
    "### Import papers of interest\n",
    "papers = pd.read_csv(\"example_data/included_studies.csv\")\n",
    "papers = papers[[\"title\"]]\n",
    "papers = papers[0:127]"
   ]
  },
  {
   "cell_type": "code",
   "execution_count": 5,
   "id": "6dbecc63-9e8c-4a2f-9a1e-3acb40876367",
   "metadata": {},
   "outputs": [
    {
     "name": "stdout",
     "output_type": "stream",
     "text": [
      "Checking search results of size 3000 for presence of 127 papers.\n"
     ]
    },
    {
     "data": {
      "application/vnd.jupyter.widget-view+json": {
       "model_id": "8a904ec3ba1d463f80b65dd7520a6542",
       "version_major": 2,
       "version_minor": 0
      },
      "text/plain": [
       "  0%|          | 0/127 [00:00<?, ?it/s]"
      ]
     },
     "metadata": {},
     "output_type": "display_data"
    },
    {
     "name": "stdout",
     "output_type": "stream",
     "text": [
      "There were 82 / 127 unique matches, and 0 duplicates remaining in the search.\n"
     ]
    }
   ],
   "source": [
    "### Run the function\n",
    "matches = check_coverage(query=papers[\"title\"], results=results[\"title\"])"
   ]
  },
  {
   "cell_type": "code",
   "execution_count": 10,
   "id": "63d19d32-84dd-4055-89a2-d7cc37c2ef08",
   "metadata": {},
   "outputs": [
    {
     "data": {
      "text/plain": [
       "['Tick-borne relapsing fever Borreliosis, a major public health problem overlooked in Senegal',\n",
       " 'Small mammals of a West African hotspot, the Ziama-Wonegizi-Wologizi transfrontier forest landscape',\n",
       " 'Lassa virus circulation in small mammal populations in Bo district, Sierra Leone',\n",
       " 'Mastomys natalensis, Cricetomys gambianus and Taterillus sp. were found PCR positive for Leishmania major in Burkina Faso, West Africa',\n",
       " 'Small mammal inventory in the Lama forest reserve (south Benin), with new cytogenetical data',\n",
       " 'Households as hotspots of Lassa fever? Assessing the spatial distribution of Lassa virus-infected rodents in rural villages of Guinea',\n",
       " 'Association between temporal patterns in helminth assemblages and successful range expansion of exotic Mus musculus domesticus in Senegal',\n",
       " 'Rodents as hosts of pathogens and related zoonotic disease risk',\n",
       " 'Multihost transmission of Schistosoma mansoni in Senegal, 2015-2018',\n",
       " 'Species composition and community structure of terrestrial small mammals in Tanoé-Ehy Swamp Forest (South-East Ivory Coast): implication for conservation',\n",
       " 'New records of bats and terrestrial small mammals from the Seli River in Sierra Leone before the construction of a hydroelectric dam',\n",
       " 'Evaluation of rodent control to fight Lassa fever based on field data and mathematical modelling',\n",
       " 'Native and invasive small mammals in urban habitats along the commercial axis connecting Benin and Niger, West Africa',\n",
       " 'Usutu virus isolated from rodents in Senegal',\n",
       " 'Plagiorchis sp. in small mammals of Senegal and the potential emergence of a zoonotic trematodiasis',\n",
       " 'Demographic response of the Gambian gerbil to seasonal changes in savannah fallow fields',\n",
       " 'Pathogenic Leptospira in Commensal Small Mammals from the Extensively Urbanized Coastal Benin',\n",
       " 'Diversity of Toxoplasma gondii strains shaped by commensal communities of small mammals',\n",
       " 'Rodents of Senegal and their role as intermediate hosts of Hydatigera spp. (Cestoda: Taeniidae)',\n",
       " 'Widespread arenavirus occurrence and seroprevalence in small mammals, Nigeria',\n",
       " 'Seroprevalence of Toxoplasma gondii in commensal rodents sampled across Senegal, West Africa',\n",
       " 'Prevalence of Hepatozoon and Sarcocystis spp. in rodents and their ectoparasites in Nigeria',\n",
       " \"Terrestrial small mammal diversity and abundance in Taï National Park, Côte d'Ivoire\",\n",
       " 'Whipworm diversity in West African rodents: a molecular approach and the description of Trichuris duplantieri n. sp. (Nematoda: Trichuridae)',\n",
       " 'Genetic structure and invasion history of the house mouse (Mus musculus domesticus) in Senegal, West Africa: a legacy of colonial and contemporary times.',\n",
       " 'Ecological and sanitary impacts of bacterial communities associated to biological invasions in African commensal rodent communities',\n",
       " 'Serological survey of zoonotic viruses in invasive and native commensal rodents in Senegal, West Africa',\n",
       " 'Impact of mining and forest regeneration on small mammal biodiversity in the Western Region of Ghana',\n",
       " 'Sequence Variability and Geographic Distribution of Lassa Virus, Sierra Leone',\n",
       " 'Borrelia infection in small mammals in West Africa and its relationship with tick occurrence inside burrows',\n",
       " 'Spatial Segregation between invasive and native commensal rodents in an urban environment: a case study in Niamey, Niger',\n",
       " 'The epidemiology and geographic distribution of relapsing fever borreliosis in West and North Africa, with a review of the ornithodoros erraticus complex (Acari: Ixodida)',\n",
       " 'Invasion genetics of the introduced black rat (rattus rattus) in Senegal, West Africa',\n",
       " 'Prevalence and diversity of Bartonella species in commensal rodents and ectoparasites from Nigeria, West Africa',\n",
       " \"Assessment of terrestrial small mammals and a record of the critically endangered shrew Crocidura wimmeri in Banco National Park (Cote d'Ivoire)\",\n",
       " 'Two Novel Arenaviruses Detected in Pygmy Mice, Ghana',\n",
       " 'Ecology of a typical West African Sudanian savannah rodent community',\n",
       " 'Endemic foci of tick-borne relapsing fever spirochete Borrelia crocidurae in Mali, West Africa and the potential for human infection',\n",
       " 'Demographic aspects of the island syndrome in two Afrotropical Mastomys rodent species',\n",
       " 'Capacity for water conservation in invasive (Gerbillus nigeriae) and declining rodents (Taterillus pygargus and Taterillus gracilis) that exhibit climate-induced distribution changes in Senegal',\n",
       " 'Extensive Robertsonian polymorphism in the African rodent Gerbillus nigeriae: geographic aspects and meiotic data',\n",
       " 'Guinean biodiversity at the edge: Rodents in forest patchs of Southern Mali',\n",
       " \"Novel arenavirus sequences in Hylomyscus sp. and Mus (Nannomys) setulosus from Cote d'Ivoire: Implications for evolution of arenaviruses in Africa\",\n",
       " 'Diversity, dynamics and reproduction in a community of small mammals in Upper Guinea, with emphasis on pygmy mice ecology',\n",
       " 'Molecular survey of rodent-borne Trypanosoma in Niger with special emphasis on T. lewisi imported by invasive black rats',\n",
       " 'Variation in cestode assemblages of Mastomys and Arvicanthis species (Rodents: Muridae) from Lake Retba in Western Senegal',\n",
       " 'A silent enzootic of an orthopoxvirus in Ghana, West Africa: Evidence for multi-species involvement in the absence of widespread human disease',\n",
       " 'Small mammal survey in the upper Seli River valley, Sierra Leone',\n",
       " 'Terrestrial Small Mammals as Reservoirs of Mycobacterium ulcerans in Benin',\n",
       " 'Diversity and dynamics in a community of small mammals in coastal Guinea, West Africa',\n",
       " 'New data on the taxonomy and distribution of Rodentia (Mammalia) from the Western and coastal regions of Guinea West Africa',\n",
       " 'Diversity and distribution of murid rodent populations between forest and derived savanna sites within south western Nigeria.',\n",
       " 'Annual flooding, survival and recruitment in a rodent population from the Niger River plain in Mali',\n",
       " 'Lassa Virus-Infected Rodents in Refugee Camps in Guinea: A Looming Threat to Public Health in a Politically Unstable Region',\n",
       " 'Lassa Serology in Natural Populations of Rodents and Horizontal Transmission',\n",
       " 'Effects of climate and local aridity on the latitudinal and habitat distribution of Arvicanthis niloticus and Arvicanthis ansorgei (Rodentia, Murinae) in Mali',\n",
       " 'The importance of cytotaxonomy in understanding the biogeography of African rodents: Lake Chad murids as an example',\n",
       " 'A cytotaxonomic survey of Rodents from Niger: implications for systematics, biodiversity and biogeography',\n",
       " 'Rodents as reservoir hosts in the transmission of Schistosoma mansoni in Richard-Toll, Senegal, West Africa',\n",
       " 'Ecology of rodent commuities in agricultural habitats in Eastern Sierra Leone: Cocoa groves as forest refugia',\n",
       " 'Diversity and structure of terrestrial small mammal communities in different vegetation types on the Accra Plains of Ghana',\n",
       " 'A longitudinal survey of Borrelia croidurae prevalence in rodents and insectivores in Senegal',\n",
       " 'Tick-borne borreliosis in West Africa',\n",
       " 'Isolation of Leishmania major from Mastomys erythroleucus and Tatera gambiana in Senegal (West Africa)',\n",
       " 'Lassa virus isolation from Mastomys natalensis rodents during an epidemic in Sierra Leone',\n",
       " 'Detection of possible spillover of a novel hantavirus in a Natal mastomys from Guinea.',\n",
       " 'Molecular Detection of Microorganisms Associated with Small Mammals and Their Ectoparasites in Mail',\n",
       " 'Movement Patterns of Small Rodents in Lassa Fever-Endemic Villages in Guinea',\n",
       " 'Arenavirus Diversity and Phylogeography of Mastomys natalensis Rodents, Nigeria',\n",
       " 'New Hosts of The Lassa Virus',\n",
       " 'Effect of Habitat Change through Infrastructural Development on Small Mammal Diversity and Abundance on the Legon Campus of the University of Ghana.',\n",
       " 'Detection of Lassa Virus, Mali',\n",
       " 'Terrestrial small mammal diversity and abundance in central Benin: comparison between habitats, with conservation implications',\n",
       " 'Indications of higher diversity and abundance of small rodents in human-influenced Sudanian savannah than in the Niokolo Koba National Park (Senegal).',\n",
       " 'Population dynamics of the multimammate rat Mastomys huberti in an annually flooded agricultural region of central Mali',\n",
       " 'Patterns of specific diversity and population size in small mammals from arboreal and ground-dwelling guilds of a forest area in southern Nigeria',\n",
       " 'The small mammal community of a coastal site of south-west Mauritania',\n",
       " 'Mastomys natalensis and Tatera gambiana as probable reservoirs of human cutaneous leishmaniasis in Nigeria.',\n",
       " 'A comparative study of three methods of detection of Borrelia crocidurae in wild rodents in Senegal',\n",
       " 'Mastomys (rodentia: muridae) species distinguished by hemoglobin pattern differences.',\n",
       " 'Mammalian ecological studies on Mount Nimba, Liberia.',\n",
       " 'Mammal fauna of the Muni-Pomadze Ramsa site, Ghana']"
      ]
     },
     "execution_count": 10,
     "metadata": {},
     "output_type": "execute_result"
    }
   ],
   "source": [
    "matches"
   ]
  },
  {
   "cell_type": "code",
   "execution_count": null,
   "id": "b3d337d3-37e3-409b-90ce-5a08288eec61",
   "metadata": {},
   "outputs": [],
   "source": []
  }
 ],
 "metadata": {
  "kernelspec": {
   "display_name": "litsearch",
   "language": "python",
   "name": "litsearch"
  },
  "language_info": {
   "codemirror_mode": {
    "name": "ipython",
    "version": 3
   },
   "file_extension": ".py",
   "mimetype": "text/x-python",
   "name": "python",
   "nbconvert_exporter": "python",
   "pygments_lexer": "ipython3",
   "version": "3.12.2"
  }
 },
 "nbformat": 4,
 "nbformat_minor": 5
}
